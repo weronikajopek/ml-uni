{
 "cells": [
  {
   "cell_type": "code",
   "execution_count": 5,
   "id": "a59b3847-609f-4167-b69d-728e0c479bb4",
   "metadata": {},
   "outputs": [],
   "source": [
    "# Import libraries\n",
    "import arff\n",
    "import pandas as pd\n",
    "import numpy as np"
   ]
  },
  {
   "cell_type": "code",
   "execution_count": 6,
   "id": "124053b1-c0e2-4427-921c-e2d3223e3775",
   "metadata": {},
   "outputs": [],
   "source": [
    "# Load the arff file\n",
    "with open('titanic_data.arff', 'r') as f:\n",
    "    dataset = arff.load(f)"
   ]
  },
  {
   "cell_type": "code",
   "execution_count": 7,
   "id": "9d1c092d-3ab5-4331-baaf-30b03c82d4fc",
   "metadata": {},
   "outputs": [],
   "source": [
    "# Load the data and column names\n",
    "data = dataset[\"data\"]\n",
    "column_names = [attr[0] for attr in dataset[\"attributes\"]]"
   ]
  },
  {
   "cell_type": "code",
   "execution_count": 8,
   "id": "930af0b2-872d-476e-88d2-c791a14d3a88",
   "metadata": {},
   "outputs": [
    {
     "data": {
      "text/html": [
       "<div>\n",
       "<style scoped>\n",
       "    .dataframe tbody tr th:only-of-type {\n",
       "        vertical-align: middle;\n",
       "    }\n",
       "\n",
       "    .dataframe tbody tr th {\n",
       "        vertical-align: top;\n",
       "    }\n",
       "\n",
       "    .dataframe thead th {\n",
       "        text-align: right;\n",
       "    }\n",
       "</style>\n",
       "<table border=\"1\" class=\"dataframe\">\n",
       "  <thead>\n",
       "    <tr style=\"text-align: right;\">\n",
       "      <th></th>\n",
       "      <th>pclass</th>\n",
       "      <th>survived</th>\n",
       "      <th>name</th>\n",
       "      <th>sex</th>\n",
       "      <th>age</th>\n",
       "      <th>sibsp</th>\n",
       "      <th>parch</th>\n",
       "      <th>ticket</th>\n",
       "      <th>fare</th>\n",
       "      <th>cabin</th>\n",
       "      <th>embarked</th>\n",
       "      <th>boat</th>\n",
       "      <th>body</th>\n",
       "      <th>home.dest</th>\n",
       "    </tr>\n",
       "  </thead>\n",
       "  <tbody>\n",
       "    <tr>\n",
       "      <th>0</th>\n",
       "      <td>1.0</td>\n",
       "      <td>1</td>\n",
       "      <td>Allen, Miss. Elisabeth Walton</td>\n",
       "      <td>female</td>\n",
       "      <td>29.0000</td>\n",
       "      <td>0.0</td>\n",
       "      <td>0.0</td>\n",
       "      <td>24160</td>\n",
       "      <td>211.3375</td>\n",
       "      <td>B5</td>\n",
       "      <td>S</td>\n",
       "      <td>2</td>\n",
       "      <td>NaN</td>\n",
       "      <td>St Louis, MO</td>\n",
       "    </tr>\n",
       "    <tr>\n",
       "      <th>1</th>\n",
       "      <td>1.0</td>\n",
       "      <td>1</td>\n",
       "      <td>Allison, Master. Hudson Trevor</td>\n",
       "      <td>male</td>\n",
       "      <td>0.9167</td>\n",
       "      <td>1.0</td>\n",
       "      <td>2.0</td>\n",
       "      <td>113781</td>\n",
       "      <td>151.5500</td>\n",
       "      <td>C22 C26</td>\n",
       "      <td>S</td>\n",
       "      <td>11</td>\n",
       "      <td>NaN</td>\n",
       "      <td>Montreal, PQ / Chesterville, ON</td>\n",
       "    </tr>\n",
       "    <tr>\n",
       "      <th>2</th>\n",
       "      <td>1.0</td>\n",
       "      <td>0</td>\n",
       "      <td>Allison, Miss. Helen Loraine</td>\n",
       "      <td>female</td>\n",
       "      <td>2.0000</td>\n",
       "      <td>1.0</td>\n",
       "      <td>2.0</td>\n",
       "      <td>113781</td>\n",
       "      <td>151.5500</td>\n",
       "      <td>C22 C26</td>\n",
       "      <td>S</td>\n",
       "      <td>None</td>\n",
       "      <td>NaN</td>\n",
       "      <td>Montreal, PQ / Chesterville, ON</td>\n",
       "    </tr>\n",
       "    <tr>\n",
       "      <th>3</th>\n",
       "      <td>1.0</td>\n",
       "      <td>0</td>\n",
       "      <td>Allison, Mr. Hudson Joshua Creighton</td>\n",
       "      <td>male</td>\n",
       "      <td>30.0000</td>\n",
       "      <td>1.0</td>\n",
       "      <td>2.0</td>\n",
       "      <td>113781</td>\n",
       "      <td>151.5500</td>\n",
       "      <td>C22 C26</td>\n",
       "      <td>S</td>\n",
       "      <td>None</td>\n",
       "      <td>135.0</td>\n",
       "      <td>Montreal, PQ / Chesterville, ON</td>\n",
       "    </tr>\n",
       "    <tr>\n",
       "      <th>4</th>\n",
       "      <td>1.0</td>\n",
       "      <td>0</td>\n",
       "      <td>Allison, Mrs. Hudson J C (Bessie Waldo Daniels)</td>\n",
       "      <td>female</td>\n",
       "      <td>25.0000</td>\n",
       "      <td>1.0</td>\n",
       "      <td>2.0</td>\n",
       "      <td>113781</td>\n",
       "      <td>151.5500</td>\n",
       "      <td>C22 C26</td>\n",
       "      <td>S</td>\n",
       "      <td>None</td>\n",
       "      <td>NaN</td>\n",
       "      <td>Montreal, PQ / Chesterville, ON</td>\n",
       "    </tr>\n",
       "    <tr>\n",
       "      <th>5</th>\n",
       "      <td>1.0</td>\n",
       "      <td>1</td>\n",
       "      <td>Anderson, Mr. Harry</td>\n",
       "      <td>male</td>\n",
       "      <td>48.0000</td>\n",
       "      <td>0.0</td>\n",
       "      <td>0.0</td>\n",
       "      <td>19952</td>\n",
       "      <td>26.5500</td>\n",
       "      <td>E12</td>\n",
       "      <td>S</td>\n",
       "      <td>3</td>\n",
       "      <td>NaN</td>\n",
       "      <td>New York, NY</td>\n",
       "    </tr>\n",
       "    <tr>\n",
       "      <th>6</th>\n",
       "      <td>1.0</td>\n",
       "      <td>1</td>\n",
       "      <td>Andrews, Miss. Kornelia Theodosia</td>\n",
       "      <td>female</td>\n",
       "      <td>63.0000</td>\n",
       "      <td>1.0</td>\n",
       "      <td>0.0</td>\n",
       "      <td>13502</td>\n",
       "      <td>77.9583</td>\n",
       "      <td>D7</td>\n",
       "      <td>S</td>\n",
       "      <td>10</td>\n",
       "      <td>NaN</td>\n",
       "      <td>Hudson, NY</td>\n",
       "    </tr>\n",
       "    <tr>\n",
       "      <th>7</th>\n",
       "      <td>1.0</td>\n",
       "      <td>0</td>\n",
       "      <td>Andrews, Mr. Thomas Jr</td>\n",
       "      <td>male</td>\n",
       "      <td>39.0000</td>\n",
       "      <td>0.0</td>\n",
       "      <td>0.0</td>\n",
       "      <td>112050</td>\n",
       "      <td>0.0000</td>\n",
       "      <td>A36</td>\n",
       "      <td>S</td>\n",
       "      <td>None</td>\n",
       "      <td>NaN</td>\n",
       "      <td>Belfast, NI</td>\n",
       "    </tr>\n",
       "    <tr>\n",
       "      <th>8</th>\n",
       "      <td>1.0</td>\n",
       "      <td>1</td>\n",
       "      <td>Appleton, Mrs. Edward Dale (Charlotte Lamson)</td>\n",
       "      <td>female</td>\n",
       "      <td>53.0000</td>\n",
       "      <td>2.0</td>\n",
       "      <td>0.0</td>\n",
       "      <td>11769</td>\n",
       "      <td>51.4792</td>\n",
       "      <td>C101</td>\n",
       "      <td>S</td>\n",
       "      <td>D</td>\n",
       "      <td>NaN</td>\n",
       "      <td>Bayside, Queens, NY</td>\n",
       "    </tr>\n",
       "    <tr>\n",
       "      <th>9</th>\n",
       "      <td>1.0</td>\n",
       "      <td>0</td>\n",
       "      <td>Artagaveytia, Mr. Ramon</td>\n",
       "      <td>male</td>\n",
       "      <td>71.0000</td>\n",
       "      <td>0.0</td>\n",
       "      <td>0.0</td>\n",
       "      <td>PC 17609</td>\n",
       "      <td>49.5042</td>\n",
       "      <td>None</td>\n",
       "      <td>C</td>\n",
       "      <td>None</td>\n",
       "      <td>22.0</td>\n",
       "      <td>Montevideo, Uruguay</td>\n",
       "    </tr>\n",
       "  </tbody>\n",
       "</table>\n",
       "</div>"
      ],
      "text/plain": [
       "   pclass survived                                             name     sex  \\\n",
       "0     1.0        1                    Allen, Miss. Elisabeth Walton  female   \n",
       "1     1.0        1                   Allison, Master. Hudson Trevor    male   \n",
       "2     1.0        0                     Allison, Miss. Helen Loraine  female   \n",
       "3     1.0        0             Allison, Mr. Hudson Joshua Creighton    male   \n",
       "4     1.0        0  Allison, Mrs. Hudson J C (Bessie Waldo Daniels)  female   \n",
       "5     1.0        1                              Anderson, Mr. Harry    male   \n",
       "6     1.0        1                Andrews, Miss. Kornelia Theodosia  female   \n",
       "7     1.0        0                           Andrews, Mr. Thomas Jr    male   \n",
       "8     1.0        1    Appleton, Mrs. Edward Dale (Charlotte Lamson)  female   \n",
       "9     1.0        0                          Artagaveytia, Mr. Ramon    male   \n",
       "\n",
       "       age  sibsp  parch    ticket      fare    cabin embarked  boat   body  \\\n",
       "0  29.0000    0.0    0.0     24160  211.3375       B5        S     2    NaN   \n",
       "1   0.9167    1.0    2.0    113781  151.5500  C22 C26        S    11    NaN   \n",
       "2   2.0000    1.0    2.0    113781  151.5500  C22 C26        S  None    NaN   \n",
       "3  30.0000    1.0    2.0    113781  151.5500  C22 C26        S  None  135.0   \n",
       "4  25.0000    1.0    2.0    113781  151.5500  C22 C26        S  None    NaN   \n",
       "5  48.0000    0.0    0.0     19952   26.5500      E12        S     3    NaN   \n",
       "6  63.0000    1.0    0.0     13502   77.9583       D7        S    10    NaN   \n",
       "7  39.0000    0.0    0.0    112050    0.0000      A36        S  None    NaN   \n",
       "8  53.0000    2.0    0.0     11769   51.4792     C101        S     D    NaN   \n",
       "9  71.0000    0.0    0.0  PC 17609   49.5042     None        C  None   22.0   \n",
       "\n",
       "                         home.dest  \n",
       "0                     St Louis, MO  \n",
       "1  Montreal, PQ / Chesterville, ON  \n",
       "2  Montreal, PQ / Chesterville, ON  \n",
       "3  Montreal, PQ / Chesterville, ON  \n",
       "4  Montreal, PQ / Chesterville, ON  \n",
       "5                     New York, NY  \n",
       "6                       Hudson, NY  \n",
       "7                      Belfast, NI  \n",
       "8              Bayside, Queens, NY  \n",
       "9              Montevideo, Uruguay  "
      ]
     },
     "execution_count": 8,
     "metadata": {},
     "output_type": "execute_result"
    }
   ],
   "source": [
    "# Create the DataFrame\n",
    "df = pd.DataFrame(data, columns=column_names)\n",
    "df.head(10)"
   ]
  },
  {
   "cell_type": "markdown",
   "id": "fb9ea677-a693-4ab8-8b11-456f9ef61d07",
   "metadata": {},
   "source": [
    "Qualitative Data is also called Categorical Data and it categorizes the data into various categories.\n",
    "\n",
    "Qualitative data is further categorized into two categories that include:\n",
    "- Nominal Data - a type of data that consists of categories or names that cannot be ordered or ranked (e.g. gender, race, religion, blood type)\n",
    "- Ordinal Data - a type of data that consists of categories that can be ordered or ranked (e.g. job position, education level)\n",
    "\n",
    "Source: https://www.geeksforgeeks.org/data-types-in-statistics/#qualitative-data-categorical-data\n"
   ]
  },
  {
   "cell_type": "code",
   "execution_count": 9,
   "id": "751fb271-e13c-4891-badd-76919a709985",
   "metadata": {},
   "outputs": [
    {
     "name": "stdout",
     "output_type": "stream",
     "text": [
      "No of labels of the \"pclass\" feature: 3.\n",
      "No of labels of the \"name\" feature: 1307.\n",
      "No of labels of the \"sex\" feature: 2.\n",
      "No of labels of the \"ticket\" feature: 929.\n",
      "No of labels of the \"cabin\" feature: 187.\n",
      "No of labels of the \"embarked\" feature: 4.\n",
      "No of labels of the \"boat\" feature: 28.\n",
      "No of labels of the \"home.dest\" feature: 370.\n"
     ]
    }
   ],
   "source": [
    "# Check the number of individual labels for given qualitative variables\n",
    "\n",
    "qual_features = [\n",
    "    'pclass',\n",
    "    'name',\n",
    "    'sex',\n",
    "    'ticket',\n",
    "    'cabin',\n",
    "    'embarked',\n",
    "    'boat',\n",
    "    'home.dest'\n",
    "]\n",
    "\n",
    "qual_df = df[qual_features]\n",
    "\n",
    "for feature in qual_df.columns:\n",
    "    print(f'No of labels of the \"{feature}\" feature: {len(df[feature].unique())}.')"
   ]
  },
  {
   "cell_type": "code",
   "execution_count": 6,
   "id": "4f072f06-5b26-49c8-99ee-596dabf594cc",
   "metadata": {},
   "outputs": [
    {
     "name": "stdout",
     "output_type": "stream",
     "text": [
      "The number of all passengers is: 1309.\n"
     ]
    }
   ],
   "source": [
    "# Chceck the number of all passengers\n",
    "\n",
    "print('The number of all passengers is: {}.'.format(len(data)))"
   ]
  },
  {
   "cell_type": "markdown",
   "id": "0ece26eb-ee9a-4305-b691-3294f7fe82f3",
   "metadata": {},
   "source": [
    "As we can see, there are features with many different labels. The example is the 'ticket' feature, because almost every passenger paid a different price for the ticket. Also features with a small number of lables appear in the data. There were only three passenger's ticket classes, so 'pclass' can take only three different values.\n",
    "\n",
    "Cardinality refers to the number of unique values in a dataset column.\n",
    "A column with high cardinality contains a vast number of unique values, while columns with low cardinality contain fewer unique entries.\n",
    "(source: https://www.datacamp.com/tutorial/cardinality)\n",
    "\n",
    "We can divide the features into two categories - these with low cardinality and high cardinality.\n",
    "\n",
    "Low cardinality: \n",
    "- pclass\n",
    "- survived\n",
    "- sex\n",
    "- sibps\n",
    "- parch\n",
    "- embarked\n",
    "- boat\n",
    "\n",
    "High cardinality: \n",
    "- name\n",
    "- age\n",
    "- ticket\n",
    "- fare\n",
    "- cabin\n",
    "- body\n",
    "- home.dest\n",
    "\n",
    "I could not find a specific border to divide the features, so I based on my current knowledge and decide to group them in the way presented above."
   ]
  },
  {
   "cell_type": "code",
   "execution_count": 7,
   "id": "7186dc08-62f5-4629-9b95-9d1526f119ae",
   "metadata": {},
   "outputs": [
    {
     "name": "stdout",
     "output_type": "stream",
     "text": [
      "Type of the output: <class 'numpy.ndarray'>\n",
      "The number of unique values in the \"cabin\" column: 187\n"
     ]
    }
   ],
   "source": [
    "# Check how many unique values the 'cabin' feature has\n",
    "# Use a function that return a NumPy array\n",
    "\n",
    "print(f'Type of the output: {type(df['cabin'].unique())}')\n",
    "print(f'The number of unique values in the \"cabin\" column: {len(df['cabin'].unique())}')"
   ]
  },
  {
   "cell_type": "code",
   "execution_count": 8,
   "id": "6791e462-a1d8-47f4-8e41-141c9a898870",
   "metadata": {},
   "outputs": [
    {
     "name": "stdout",
     "output_type": "stream",
     "text": [
      "['B5' 'C22 C26' 'E12' 'D7' 'A36' 'C101' None 'C62 C64' 'B35' 'A23'\n",
      " 'B58 B60' 'D15' 'C6' 'D35' 'C148' 'C97' 'B49' 'C99' 'C52' 'T' 'A31' 'C7'\n",
      " 'C103' 'D22' 'E33' 'A21' 'B10' 'B4' 'E40' 'B38' 'E24' 'B51 B53 B55'\n",
      " 'B96 B98' 'C46' 'E31' 'E8' 'B61' 'B77' 'A9' 'C89' 'A14' 'E58' 'E49' 'E52'\n",
      " 'E45' 'B22' 'B26' 'C85' 'E17' 'B71' 'B20' 'A34' 'C86' 'A16' 'A20' 'A18'\n",
      " 'C54' 'C45' 'D20' 'A29' 'C95' 'E25' 'C111' 'C23 C25 C27' 'E36' 'D34'\n",
      " 'D40' 'B39' 'B41' 'B102' 'C123' 'E63' 'C130' 'B86' 'C92' 'A5' 'C51' 'B42'\n",
      " 'C91' 'C125' 'D10 D12' 'B82 B84' 'E50' 'D33' 'C83' 'B94' 'D49' 'D45'\n",
      " 'B69' 'B11' 'E46' 'C39' 'B18' 'D11' 'C93' 'B28' 'C49' 'B52 B54 B56' 'E60'\n",
      " 'C132' 'B37' 'D21' 'D19' 'C124' 'D17' 'B101' 'D28' 'D6' 'D9' 'B80' 'C106'\n",
      " 'B79' 'C47' 'D30' 'C90' 'E38' 'C78' 'C30' 'C118' 'D36' 'D48' 'D47' 'C105'\n",
      " 'B36' 'B30' 'D43' 'B24' 'C2' 'C65' 'B73' 'C104' 'C110' 'C50' 'B3' 'A24'\n",
      " 'A32' 'A11' 'A10' 'B57 B59 B63 B66' 'C28' 'E44' 'A26' 'A6' 'A7' 'C31'\n",
      " 'A19' 'B45' 'E34' 'B78' 'B50' 'C87' 'C116' 'C55 C57' 'D50' 'E68' 'E67'\n",
      " 'C126' 'C68' 'C70' 'C53' 'B19' 'D46' 'D37' 'D26' 'C32' 'C80' 'C82' 'C128'\n",
      " 'E39 E41' 'D' 'F4' 'D56' 'F33' 'E101' 'E77' 'F2' 'D38' 'F' 'F G63'\n",
      " 'F E57' 'F E46' 'F G73' 'E121' 'F E69' 'E10' 'G6' 'F38']\n"
     ]
    }
   ],
   "source": [
    "# Check the labels of the 'cabin' columns\n",
    "print(df['cabin'].unique())"
   ]
  },
  {
   "cell_type": "code",
   "execution_count": 9,
   "id": "b1ebcf03-40e4-49c2-8a6f-faa162a507c0",
   "metadata": {},
   "outputs": [
    {
     "name": "stdout",
     "output_type": "stream",
     "text": [
      "['A', 'B', 'C', 'D', 'E', 'F', 'G', 'N', 'T']\n"
     ]
    }
   ],
   "source": [
    "# Reduce the number of labels in the 'cabin' columns adnd create a new column\n",
    "# Replace the current format ('L11') with the label containing only the first letter ('L')\n",
    "\n",
    "df['CabinReduced'] = df['cabin'].astype(str).str[0]\n",
    "\n",
    "# Print the first 20 rows\n",
    "df[['cabin', 'CabinReduced']].head(20)\n",
    "print(sorted(df['CabinReduced'].unique()))"
   ]
  },
  {
   "cell_type": "code",
   "execution_count": 10,
   "id": "1e1388ae-ddf1-49a2-8a3d-cce17cbc53b9",
   "metadata": {},
   "outputs": [
    {
     "name": "stdout",
     "output_type": "stream",
     "text": [
      "No of labels of the \"CabinReduced\" feature: 9\n"
     ]
    }
   ],
   "source": [
    "# Print the number of labels in the 'CabinReduced' column\n",
    "\n",
    "print(f'No of labels of the \"CabinReduced\" feature: {len(df['CabinReduced'].unique())}')"
   ]
  },
  {
   "cell_type": "code",
   "execution_count": 11,
   "id": "8adae393-f6c2-479c-ac5d-6323833243cd",
   "metadata": {},
   "outputs": [
    {
     "name": "stdout",
     "output_type": "stream",
     "text": [
      "The cardinality of the cabin feature has been reduced by 95.19%\n"
     ]
    }
   ],
   "source": [
    "# Show by what percentage the cardinality of the set of variables describing the 'cabin' column was reduced\n",
    "\n",
    "original = len(df['cabin'].unique())\n",
    "reduced = len(df['CabinReduced'].unique())\n",
    "\n",
    "difference = 100 - (reduced * 100 / original)\n",
    "print(f'The cardinality of the cabin feature has been reduced by {difference:.2f}%')"
   ]
  },
  {
   "cell_type": "markdown",
   "id": "57ec601e-5eed-4005-a19f-2755bb37dc80",
   "metadata": {},
   "source": [
    "I decided to reduce the cardinality of the 'cabin' column, because by simply replacing the whole cabin name I decrase the number of labels from 187 to 9. I think the entire cabin name is not necessary in my analysis and having only a letter (which means the deck on the Titanic ship - https://www.encyclopedia-titanica.org/titanic-deckplans/) is enough to train the future model.\n",
    "\n",
    "Reducing the cardinality positively influences the analysis. One of the biggest challenges of high cardinality is its impact on data storage and system performance. Also, it helps with data visualization, because high-cardinality data can hide insights instead of revealing them and make the plot unreadable. \n",
    "\n",
    "The more data and labels the more accurate model can be, however, by reducing the cardinality I can avoid the overfitting problem in my future model.\n"
   ]
  },
  {
   "cell_type": "code",
   "execution_count": 12,
   "id": "d630fb91-77aa-449f-a1d8-ff0d64fe0a04",
   "metadata": {},
   "outputs": [],
   "source": [
    "# Save the df as a pickle file\n",
    "df.to_pickle('df_reduced.pkl')"
   ]
  }
 ],
 "metadata": {
  "kernelspec": {
   "display_name": "Python (DataScience_DL)",
   "language": "python",
   "name": "datascience_dl"
  },
  "language_info": {
   "codemirror_mode": {
    "name": "ipython",
    "version": 3
   },
   "file_extension": ".py",
   "mimetype": "text/x-python",
   "name": "python",
   "nbconvert_exporter": "python",
   "pygments_lexer": "ipython3",
   "version": "3.12.9"
  }
 },
 "nbformat": 4,
 "nbformat_minor": 5
}
